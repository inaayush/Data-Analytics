{
 "cells": [
  {
   "cell_type": "code",
   "execution_count": 12,
   "metadata": {},
   "outputs": [],
   "source": [
    "#Github: inaayush Respository: Data Analysis License:Alpha2.0\n",
    "import pandas as pd\n",
    "import numpy as np\n",
    "import matplotlib.pyplot as plt\n",
    "import seaborn as sb"
   ]
  },
  {
   "cell_type": "code",
   "execution_count": 13,
   "metadata": {},
   "outputs": [],
   "source": [
    "#linear regression function\n",
    "#      args--X,y\n",
    "#      -plots the data\n",
    "#      -calculate and add values to dataFrame\n",
    "#      -finds the least sqaure value\n",
    "#      -plot the best fitted line\n",
    "def linear_regression(X,y):\n",
    "    data = pd.DataFrame()\n",
    "    data[\"X\"]=X\n",
    "    data[\"y\"]=y\n",
    "    X_mean = np.mean(X)\n",
    "    y_mean =np.mean(y)\n",
    "    diffx= X-X_mean\n",
    "    diffy = y-y_mean\n",
    "    data[\"(X-X_mean)\"]=diffx\n",
    "    data[\"(y-y_mean)\"]=diffy\n",
    "    sqdiffx = (X-X_mean)**2\n",
    "    data[\"(X-X_mean)^2\"] = sqdiffx\n",
    "    data[\"(X-X_mean)*(y-y_mean)\"]=(X-X_mean)*(y-y_mean)\n",
    "    m=np.sum(data[\"(X-X_mean)*(y-y_mean)\"])/np.sum(data[\"(X-X_mean)^2\"])\n",
    "    c=y_mean-m*X_mean\n",
    "    print(\"y=\",m,\"x +\",c)\n",
    "    yp = m*X + c\n",
    "    data[\"yp\"] = yp\n",
    "    data[\"y-yp\"] = y-yp\n",
    "    data[\"yp-y_mean\"] = yp-y_mean\n",
    "    data[\"(y-y_mean)^2\"] = (y-y_mean)**2\n",
    "    data[\"(yp-y_mean)^2\"] = (yp-y_mean)**2\n",
    "    least_square = np.sum(data[\"(yp-y_mean)^2\"])/np.sum(data[\"(y-y_mean)^2\"])\n",
    "    print(\"least square:\",least_square)\n",
    "    plt.plot(X,yp,linestyle=\"dashed\",color=(0.1,0.9,0.3),linewidth=2)\n",
    "    plt.legend(\"BFL\")\n",
    "    sb.scatterplot(x=data[\"X\"],y=data[\"y\"],color=(0.2,0.4,0.7))\n",
    "    data.to_csv(\"output_filename.csv\", index=False, encoding='utf8')"
   ]
  },
  {
   "cell_type": "markdown",
   "metadata": {},
   "source": [
    "*Q2. A college bookstore must order books two months before each semester starts. They believe that the number of books that will ultimately be sold for any particular course is related to the number of students registered for the course when the books are ordered. From past records, the bookstore obtains the number of students registered, X, and the number of books actually sold for a course, Y, for 12 different semesters. These data are below.*\n"
   ]
  },
  {
   "cell_type": "code",
   "execution_count": 14,
   "metadata": {},
   "outputs": [],
   "source": [
    "#making the dataset\n",
    "\n"
   ]
  },
  {
   "cell_type": "code",
   "execution_count": 15,
   "metadata": {},
   "outputs": [],
   "source": [
    "# linear_regression(X,y)"
   ]
  },
  {
   "cell_type": "code",
   "execution_count": 16,
   "metadata": {},
   "outputs": [],
   "source": [
    "# data=pd.read_csv(\"output_filename.csv\")\n",
    "# data"
   ]
  },
  {
   "cell_type": "code",
   "execution_count": 17,
   "metadata": {},
   "outputs": [
    {
     "name": "stdout",
     "output_type": "stream",
     "text": [
      "y= 21.46551724137931 x + 8327.58620689655\n",
      "least square: 0.8990603520779558\n"
     ]
    },
    {
     "data": {
      "image/png": "[encoded data removed]",
      "text/plain": [
       "<Figure size 432x288 with 1 Axes>"
      ]
     },
     "metadata": {
      "needs_background": "light"
     },
     "output_type": "display_data"
    }
   ],
   "source": [
    "y= np.array([17000,18000,29000,24000,38000,12000,25000,27000,30000,35000])\n",
    "X = np.array([400,600,1100,500,1400,300,800,800,900,1200])\n",
    "linear_regression(X,y)"
   ]
  },
  {
   "cell_type": "code",
   "execution_count": 18,
   "metadata": {},
   "outputs": [
    {
     "data": {
      "text/html": [
       "<div>\n",
       "<style scoped>\n",
       "    .dataframe tbody tr th:only-of-type {\n",
       "        vertical-align: middle;\n",
       "    }\n",
       "\n",
       "    .dataframe tbody tr th {\n",
       "        vertical-align: top;\n",
       "    }\n",
       "\n",
       "    .dataframe thead th {\n",
       "        text-align: right;\n",
       "    }\n",
       "</style>\n",
       "<table border=\"1\" class=\"dataframe\">\n",
       "  <thead>\n",
       "    <tr style=\"text-align: right;\">\n",
       "      <th></th>\n",
       "      <th>X</th>\n",
       "      <th>y</th>\n",
       "      <th>(X-X_mean)</th>\n",
       "      <th>(y-y_mean)</th>\n",
       "      <th>(X-X_mean)^2</th>\n",
       "      <th>(X-X_mean)*(y-y_mean)</th>\n",
       "      <th>yp</th>\n",
       "      <th>y-yp</th>\n",
       "      <th>yp-y_mean</th>\n",
       "      <th>(y-y_mean)^2</th>\n",
       "      <th>(yp-y_mean)^2</th>\n",
       "    </tr>\n",
       "  </thead>\n",
       "  <tbody>\n",
       "    <tr>\n",
       "      <th>0</th>\n",
       "      <td>400</td>\n",
       "      <td>17000</td>\n",
       "      <td>-400.0</td>\n",
       "      <td>-8500.0</td>\n",
       "      <td>160000.0</td>\n",
       "      <td>3400000.0</td>\n",
       "      <td>16913.793103</td>\n",
       "      <td>86.206897</td>\n",
       "      <td>-8586.206897</td>\n",
       "      <td>72250000.0</td>\n",
       "      <td>7.372295e+07</td>\n",
       "    </tr>\n",
       "    <tr>\n",
       "      <th>1</th>\n",
       "      <td>600</td>\n",
       "      <td>18000</td>\n",
       "      <td>-200.0</td>\n",
       "      <td>-7500.0</td>\n",
       "      <td>40000.0</td>\n",
       "      <td>1500000.0</td>\n",
       "      <td>21206.896552</td>\n",
       "      <td>-3206.896552</td>\n",
       "      <td>-4293.103448</td>\n",
       "      <td>56250000.0</td>\n",
       "      <td>1.843074e+07</td>\n",
       "    </tr>\n",
       "    <tr>\n",
       "      <th>2</th>\n",
       "      <td>1100</td>\n",
       "      <td>29000</td>\n",
       "      <td>300.0</td>\n",
       "      <td>3500.0</td>\n",
       "      <td>90000.0</td>\n",
       "      <td>1050000.0</td>\n",
       "      <td>31939.655172</td>\n",
       "      <td>-2939.655172</td>\n",
       "      <td>6439.655172</td>\n",
       "      <td>12250000.0</td>\n",
       "      <td>4.146916e+07</td>\n",
       "    </tr>\n",
       "    <tr>\n",
       "      <th>3</th>\n",
       "      <td>500</td>\n",
       "      <td>24000</td>\n",
       "      <td>-300.0</td>\n",
       "      <td>-1500.0</td>\n",
       "      <td>90000.0</td>\n",
       "      <td>450000.0</td>\n",
       "      <td>19060.344828</td>\n",
       "      <td>4939.655172</td>\n",
       "      <td>-6439.655172</td>\n",
       "      <td>2250000.0</td>\n",
       "      <td>4.146916e+07</td>\n",
       "    </tr>\n",
       "    <tr>\n",
       "      <th>4</th>\n",
       "      <td>1400</td>\n",
       "      <td>38000</td>\n",
       "      <td>600.0</td>\n",
       "      <td>12500.0</td>\n",
       "      <td>360000.0</td>\n",
       "      <td>7500000.0</td>\n",
       "      <td>38379.310345</td>\n",
       "      <td>-379.310345</td>\n",
       "      <td>12879.310345</td>\n",
       "      <td>156250000.0</td>\n",
       "      <td>1.658766e+08</td>\n",
       "    </tr>\n",
       "    <tr>\n",
       "      <th>5</th>\n",
       "      <td>300</td>\n",
       "      <td>12000</td>\n",
       "      <td>-500.0</td>\n",
       "      <td>-13500.0</td>\n",
       "      <td>250000.0</td>\n",
       "      <td>6750000.0</td>\n",
       "      <td>14767.241379</td>\n",
       "      <td>-2767.241379</td>\n",
       "      <td>-10732.758621</td>\n",
       "      <td>182250000.0</td>\n",
       "      <td>1.151921e+08</td>\n",
       "    </tr>\n",
       "    <tr>\n",
       "      <th>6</th>\n",
       "      <td>800</td>\n",
       "      <td>25000</td>\n",
       "      <td>0.0</td>\n",
       "      <td>-500.0</td>\n",
       "      <td>0.0</td>\n",
       "      <td>-0.0</td>\n",
       "      <td>25500.000000</td>\n",
       "      <td>-500.000000</td>\n",
       "      <td>0.000000</td>\n",
       "      <td>250000.0</td>\n",
       "      <td>0.000000e+00</td>\n",
       "    </tr>\n",
       "    <tr>\n",
       "      <th>7</th>\n",
       "      <td>800</td>\n",
       "      <td>27000</td>\n",
       "      <td>0.0</td>\n",
       "      <td>1500.0</td>\n",
       "      <td>0.0</td>\n",
       "      <td>0.0</td>\n",
       "      <td>25500.000000</td>\n",
       "      <td>1500.000000</td>\n",
       "      <td>0.000000</td>\n",
       "      <td>2250000.0</td>\n",
       "      <td>0.000000e+00</td>\n",
       "    </tr>\n",
       "    <tr>\n",
       "      <th>8</th>\n",
       "      <td>900</td>\n",
       "      <td>30000</td>\n",
       "      <td>100.0</td>\n",
       "      <td>4500.0</td>\n",
       "      <td>10000.0</td>\n",
       "      <td>450000.0</td>\n",
       "      <td>27646.551724</td>\n",
       "      <td>2353.448276</td>\n",
       "      <td>2146.551724</td>\n",
       "      <td>20250000.0</td>\n",
       "      <td>4.607684e+06</td>\n",
       "    </tr>\n",
       "    <tr>\n",
       "      <th>9</th>\n",
       "      <td>1200</td>\n",
       "      <td>35000</td>\n",
       "      <td>400.0</td>\n",
       "      <td>9500.0</td>\n",
       "      <td>160000.0</td>\n",
       "      <td>3800000.0</td>\n",
       "      <td>34086.206897</td>\n",
       "      <td>913.793103</td>\n",
       "      <td>8586.206897</td>\n",
       "      <td>90250000.0</td>\n",
       "      <td>7.372295e+07</td>\n",
       "    </tr>\n",
       "  </tbody>\n",
       "</table>\n",
       "</div>"
      ],
      "text/plain": [
       "      X      y  (X-X_mean)  (y-y_mean)  (X-X_mean)^2  (X-X_mean)*(y-y_mean)  \\\n",
       "0   400  17000      -400.0     -8500.0      160000.0              3400000.0   \n",
       "1   600  18000      -200.0     -7500.0       40000.0              1500000.0   \n",
       "2  1100  29000       300.0      3500.0       90000.0              1050000.0   \n",
       "3   500  24000      -300.0     -1500.0       90000.0               450000.0   \n",
       "4  1400  38000       600.0     12500.0      360000.0              7500000.0   \n",
       "5   300  12000      -500.0    -13500.0      250000.0              6750000.0   \n",
       "6   800  25000         0.0      -500.0           0.0                   -0.0   \n",
       "7   800  27000         0.0      1500.0           0.0                    0.0   \n",
       "8   900  30000       100.0      4500.0       10000.0               450000.0   \n",
       "9  1200  35000       400.0      9500.0      160000.0              3800000.0   \n",
       "\n",
       "             yp         y-yp     yp-y_mean  (y-y_mean)^2  (yp-y_mean)^2  \n",
       "0  16913.793103    86.206897  -8586.206897    72250000.0   7.372295e+07  \n",
       "1  21206.896552 -3206.896552  -4293.103448    56250000.0   1.843074e+07  \n",
       "2  31939.655172 -2939.655172   6439.655172    12250000.0   4.146916e+07  \n",
       "3  19060.344828  4939.655172  -6439.655172     2250000.0   4.146916e+07  \n",
       "4  38379.310345  -379.310345  12879.310345   156250000.0   1.658766e+08  \n",
       "5  14767.241379 -2767.241379 -10732.758621   182250000.0   1.151921e+08  \n",
       "6  25500.000000  -500.000000      0.000000      250000.0   0.000000e+00  \n",
       "7  25500.000000  1500.000000      0.000000     2250000.0   0.000000e+00  \n",
       "8  27646.551724  2353.448276   2146.551724    20250000.0   4.607684e+06  \n",
       "9  34086.206897   913.793103   8586.206897    90250000.0   7.372295e+07  "
      ]
     },
     "execution_count": 18,
     "metadata": {},
     "output_type": "execute_result"
    }
   ],
   "source": [
    "data=pd.read_csv(\"output_filename.csv\")\n",
    "data"
   ]
  },
  {
   "cell_type": "code",
   "execution_count": 26,
   "metadata": {},
   "outputs": [
    {
     "name": "stdout",
     "output_type": "stream",
     "text": [
      "700 agents, sales: 23353.448275862065\n"
     ]
    }
   ],
   "source": [
    "p= 21.46551724137931 *(700) + 8327.58620689655\n",
    "print(\"700 agents, sales:\",p)"
   ]
  },
  {
   "cell_type": "code",
   "execution_count": 27,
   "metadata": {},
   "outputs": [
    {
     "name": "stdout",
     "output_type": "stream",
     "text": [
      "350 agents, sales: 15840.517241379308\n"
     ]
    }
   ],
   "source": [
    "q= 21.46551724137931 *(350) + 8327.58620689655\n",
    "print(\"350 agents, sales:\",q)"
   ]
  },
  {
   "cell_type": "code",
   "execution_count": 30,
   "metadata": {},
   "outputs": [
    {
     "name": "stdout",
     "output_type": "stream",
     "text": [
      "1050 agents, sales: 30866.379310344826\n"
     ]
    }
   ],
   "source": [
    "r= 21.46551724137931 *(1050) + 8327.58620689655\n",
    "print(\"1050 agents, sales:\",r)"
   ]
  },
  {
   "cell_type": "code",
   "execution_count": null,
   "metadata": {},
   "outputs": [],
   "source": []
  },
  {
   "cell_type": "code",
   "execution_count": null,
   "metadata": {},
   "outputs": [],
   "source": []
  },
  {
   "cell_type": "code",
   "execution_count": null,
   "metadata": {},
   "outputs": [],
   "source": []
  }
 ],
 "metadata": {
  "kernelspec": {
   "display_name": "Python 3",
   "language": "python",
   "name": "python3"
  },
  "language_info": {
   "codemirror_mode": {
    "name": "ipython",
    "version": 3
   },
   "file_extension": ".py",
   "mimetype": "text/x-python",
   "name": "python",
   "nbconvert_exporter": "python",
   "pygments_lexer": "ipython3",
   "version": "3.8.3"
  }
 },
 "nbformat": 4,
 "nbformat_minor": 4
}
